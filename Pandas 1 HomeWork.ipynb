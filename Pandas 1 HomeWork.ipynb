{
 "cells": [
  {
   "cell_type": "markdown",
   "metadata": {},
   "source": [
    "# Home Task 1"
   ]
  },
  {
   "cell_type": "code",
   "execution_count": null,
   "metadata": {
    "collapsed": true
   },
   "outputs": [],
   "source": [
    "import pandas as pd\n",
    "data = pd.read_csv('ratings.csv')\n",
    "five_rating = data[five_rating['rating'] == 5]\n",
    "five_rating.head()"
   ]
  },
  {
   "cell_type": "markdown",
   "metadata": {},
   "source": [
    "# Home Task 2"
   ]
  },
  {
   "cell_type": "code",
   "execution_count": null,
   "metadata": {
    "collapsed": true
   },
   "outputs": [],
   "source": [
    "import pandas as pd\n",
    "data = pd.read_csv('power.csv')\n",
    "filtered_countries = data[(data['country']=='Latvia') | (data['country']=='Lithuania') | (data['country']=='Estonia')]\n",
    "filtered_category = data[(data['category']==4) | (data['category']==12) | (data['category']==24)]\n",
    "filtered_year = data[(data 2005 <= ['year'] <= 2010)]\n",
    "filtered_quantity = data[(data['quantity'] => 0)]\n",
    "data.head(50)"
   ]
  },
  {
   "cell_type": "markdown",
   "metadata": {},
   "source": [
    "# Home Task 3"
   ]
  },
  {
   "cell_type": "code",
   "execution_count": null,
   "metadata": {
    "collapsed": true
   },
   "outputs": [],
   "source": [
    "import pandas as pd\n",
    "page_url = 'https://www.finanz.ru/valyuty/v-realnom-vremeni'\n",
    "df = pd.read_html(page_url, attrs = {'class': 'quote_list'}, encoding='utf-8')\n",
    "print(df[0])"
   ]
  }
 ],
 "metadata": {
  "kernelspec": {
   "display_name": "Python 3",
   "language": "python",
   "name": "python3"
  },
  "language_info": {
   "codemirror_mode": {
    "name": "ipython",
    "version": 3
   },
   "file_extension": ".py",
   "mimetype": "text/x-python",
   "name": "python",
   "nbconvert_exporter": "python",
   "pygments_lexer": "ipython3",
   "version": "3.6.2"
  }
 },
 "nbformat": 4,
 "nbformat_minor": 2
}
